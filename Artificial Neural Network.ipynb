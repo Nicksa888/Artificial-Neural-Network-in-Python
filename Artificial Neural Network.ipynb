{
 "cells": [
  {
   "cell_type": "code",
   "execution_count": 1,
   "id": "51606229",
   "metadata": {},
   "outputs": [],
   "source": [
    "#Importing necessary Libraries\n",
    "import numpy as np\n",
    "import pandas as pd\n",
    "import tensorflow as tf"
   ]
  },
  {
   "cell_type": "code",
   "execution_count": 5,
   "id": "3667d8e8",
   "metadata": {},
   "outputs": [
    {
     "data": {
      "text/html": [
       "<div>\n",
       "<style scoped>\n",
       "    .dataframe tbody tr th:only-of-type {\n",
       "        vertical-align: middle;\n",
       "    }\n",
       "\n",
       "    .dataframe tbody tr th {\n",
       "        vertical-align: top;\n",
       "    }\n",
       "\n",
       "    .dataframe thead th {\n",
       "        text-align: right;\n",
       "    }\n",
       "</style>\n",
       "<table border=\"1\" class=\"dataframe\">\n",
       "  <thead>\n",
       "    <tr style=\"text-align: right;\">\n",
       "      <th></th>\n",
       "      <th>RowNumber</th>\n",
       "      <th>CustomerId</th>\n",
       "      <th>Surname</th>\n",
       "      <th>CreditScore</th>\n",
       "      <th>Geography</th>\n",
       "      <th>Gender</th>\n",
       "      <th>Age</th>\n",
       "      <th>Tenure</th>\n",
       "      <th>Balance</th>\n",
       "      <th>NumOfProducts</th>\n",
       "      <th>HasCrCard</th>\n",
       "      <th>IsActiveMember</th>\n",
       "      <th>EstimatedSalary</th>\n",
       "      <th>Exited</th>\n",
       "    </tr>\n",
       "  </thead>\n",
       "  <tbody>\n",
       "    <tr>\n",
       "      <th>0</th>\n",
       "      <td>1</td>\n",
       "      <td>15634602</td>\n",
       "      <td>Hargrave</td>\n",
       "      <td>619</td>\n",
       "      <td>France</td>\n",
       "      <td>Female</td>\n",
       "      <td>42</td>\n",
       "      <td>2</td>\n",
       "      <td>0.00</td>\n",
       "      <td>1</td>\n",
       "      <td>1</td>\n",
       "      <td>1</td>\n",
       "      <td>101348.88</td>\n",
       "      <td>1</td>\n",
       "    </tr>\n",
       "    <tr>\n",
       "      <th>1</th>\n",
       "      <td>2</td>\n",
       "      <td>15647311</td>\n",
       "      <td>Hill</td>\n",
       "      <td>608</td>\n",
       "      <td>Spain</td>\n",
       "      <td>Female</td>\n",
       "      <td>41</td>\n",
       "      <td>1</td>\n",
       "      <td>83807.86</td>\n",
       "      <td>1</td>\n",
       "      <td>0</td>\n",
       "      <td>1</td>\n",
       "      <td>112542.58</td>\n",
       "      <td>0</td>\n",
       "    </tr>\n",
       "    <tr>\n",
       "      <th>2</th>\n",
       "      <td>3</td>\n",
       "      <td>15619304</td>\n",
       "      <td>Onio</td>\n",
       "      <td>502</td>\n",
       "      <td>France</td>\n",
       "      <td>Female</td>\n",
       "      <td>42</td>\n",
       "      <td>8</td>\n",
       "      <td>159660.80</td>\n",
       "      <td>3</td>\n",
       "      <td>1</td>\n",
       "      <td>0</td>\n",
       "      <td>113931.57</td>\n",
       "      <td>1</td>\n",
       "    </tr>\n",
       "    <tr>\n",
       "      <th>3</th>\n",
       "      <td>4</td>\n",
       "      <td>15701354</td>\n",
       "      <td>Boni</td>\n",
       "      <td>699</td>\n",
       "      <td>France</td>\n",
       "      <td>Female</td>\n",
       "      <td>39</td>\n",
       "      <td>1</td>\n",
       "      <td>0.00</td>\n",
       "      <td>2</td>\n",
       "      <td>0</td>\n",
       "      <td>0</td>\n",
       "      <td>93826.63</td>\n",
       "      <td>0</td>\n",
       "    </tr>\n",
       "    <tr>\n",
       "      <th>4</th>\n",
       "      <td>5</td>\n",
       "      <td>15737888</td>\n",
       "      <td>Mitchell</td>\n",
       "      <td>850</td>\n",
       "      <td>Spain</td>\n",
       "      <td>Female</td>\n",
       "      <td>43</td>\n",
       "      <td>2</td>\n",
       "      <td>125510.82</td>\n",
       "      <td>1</td>\n",
       "      <td>1</td>\n",
       "      <td>1</td>\n",
       "      <td>79084.10</td>\n",
       "      <td>0</td>\n",
       "    </tr>\n",
       "    <tr>\n",
       "      <th>...</th>\n",
       "      <td>...</td>\n",
       "      <td>...</td>\n",
       "      <td>...</td>\n",
       "      <td>...</td>\n",
       "      <td>...</td>\n",
       "      <td>...</td>\n",
       "      <td>...</td>\n",
       "      <td>...</td>\n",
       "      <td>...</td>\n",
       "      <td>...</td>\n",
       "      <td>...</td>\n",
       "      <td>...</td>\n",
       "      <td>...</td>\n",
       "      <td>...</td>\n",
       "    </tr>\n",
       "    <tr>\n",
       "      <th>9995</th>\n",
       "      <td>9996</td>\n",
       "      <td>15606229</td>\n",
       "      <td>Obijiaku</td>\n",
       "      <td>771</td>\n",
       "      <td>France</td>\n",
       "      <td>Male</td>\n",
       "      <td>39</td>\n",
       "      <td>5</td>\n",
       "      <td>0.00</td>\n",
       "      <td>2</td>\n",
       "      <td>1</td>\n",
       "      <td>0</td>\n",
       "      <td>96270.64</td>\n",
       "      <td>0</td>\n",
       "    </tr>\n",
       "    <tr>\n",
       "      <th>9996</th>\n",
       "      <td>9997</td>\n",
       "      <td>15569892</td>\n",
       "      <td>Johnstone</td>\n",
       "      <td>516</td>\n",
       "      <td>France</td>\n",
       "      <td>Male</td>\n",
       "      <td>35</td>\n",
       "      <td>10</td>\n",
       "      <td>57369.61</td>\n",
       "      <td>1</td>\n",
       "      <td>1</td>\n",
       "      <td>1</td>\n",
       "      <td>101699.77</td>\n",
       "      <td>0</td>\n",
       "    </tr>\n",
       "    <tr>\n",
       "      <th>9997</th>\n",
       "      <td>9998</td>\n",
       "      <td>15584532</td>\n",
       "      <td>Liu</td>\n",
       "      <td>709</td>\n",
       "      <td>France</td>\n",
       "      <td>Female</td>\n",
       "      <td>36</td>\n",
       "      <td>7</td>\n",
       "      <td>0.00</td>\n",
       "      <td>1</td>\n",
       "      <td>0</td>\n",
       "      <td>1</td>\n",
       "      <td>42085.58</td>\n",
       "      <td>1</td>\n",
       "    </tr>\n",
       "    <tr>\n",
       "      <th>9998</th>\n",
       "      <td>9999</td>\n",
       "      <td>15682355</td>\n",
       "      <td>Sabbatini</td>\n",
       "      <td>772</td>\n",
       "      <td>Germany</td>\n",
       "      <td>Male</td>\n",
       "      <td>42</td>\n",
       "      <td>3</td>\n",
       "      <td>75075.31</td>\n",
       "      <td>2</td>\n",
       "      <td>1</td>\n",
       "      <td>0</td>\n",
       "      <td>92888.52</td>\n",
       "      <td>1</td>\n",
       "    </tr>\n",
       "    <tr>\n",
       "      <th>9999</th>\n",
       "      <td>10000</td>\n",
       "      <td>15628319</td>\n",
       "      <td>Walker</td>\n",
       "      <td>792</td>\n",
       "      <td>France</td>\n",
       "      <td>Female</td>\n",
       "      <td>28</td>\n",
       "      <td>4</td>\n",
       "      <td>130142.79</td>\n",
       "      <td>1</td>\n",
       "      <td>1</td>\n",
       "      <td>0</td>\n",
       "      <td>38190.78</td>\n",
       "      <td>0</td>\n",
       "    </tr>\n",
       "  </tbody>\n",
       "</table>\n",
       "<p>10000 rows × 14 columns</p>\n",
       "</div>"
      ],
      "text/plain": [
       "      RowNumber  CustomerId    Surname  CreditScore Geography  Gender  Age  \\\n",
       "0             1    15634602   Hargrave          619    France  Female   42   \n",
       "1             2    15647311       Hill          608     Spain  Female   41   \n",
       "2             3    15619304       Onio          502    France  Female   42   \n",
       "3             4    15701354       Boni          699    France  Female   39   \n",
       "4             5    15737888   Mitchell          850     Spain  Female   43   \n",
       "...         ...         ...        ...          ...       ...     ...  ...   \n",
       "9995       9996    15606229   Obijiaku          771    France    Male   39   \n",
       "9996       9997    15569892  Johnstone          516    France    Male   35   \n",
       "9997       9998    15584532        Liu          709    France  Female   36   \n",
       "9998       9999    15682355  Sabbatini          772   Germany    Male   42   \n",
       "9999      10000    15628319     Walker          792    France  Female   28   \n",
       "\n",
       "      Tenure    Balance  NumOfProducts  HasCrCard  IsActiveMember  \\\n",
       "0          2       0.00              1          1               1   \n",
       "1          1   83807.86              1          0               1   \n",
       "2          8  159660.80              3          1               0   \n",
       "3          1       0.00              2          0               0   \n",
       "4          2  125510.82              1          1               1   \n",
       "...      ...        ...            ...        ...             ...   \n",
       "9995       5       0.00              2          1               0   \n",
       "9996      10   57369.61              1          1               1   \n",
       "9997       7       0.00              1          0               1   \n",
       "9998       3   75075.31              2          1               0   \n",
       "9999       4  130142.79              1          1               0   \n",
       "\n",
       "      EstimatedSalary  Exited  \n",
       "0           101348.88       1  \n",
       "1           112542.58       0  \n",
       "2           113931.57       1  \n",
       "3            93826.63       0  \n",
       "4            79084.10       0  \n",
       "...               ...     ...  \n",
       "9995         96270.64       0  \n",
       "9996        101699.77       0  \n",
       "9997         42085.58       1  \n",
       "9998         92888.52       1  \n",
       "9999         38190.78       0  \n",
       "\n",
       "[10000 rows x 14 columns]"
      ]
     },
     "execution_count": 5,
     "metadata": {},
     "output_type": "execute_result"
    }
   ],
   "source": [
    "data = pd.read_csv(\"C:\\Python_Data_Sets\\Churn_Modelling.csv\")\n",
    "data"
   ]
  },
  {
   "cell_type": "markdown",
   "id": "458e5427",
   "metadata": {},
   "source": [
    "Generating Matrix of Features (X)"
   ]
  },
  {
   "cell_type": "markdown",
   "id": "617433ec",
   "metadata": {},
   "source": [
    "The basic principle while creating a machine learning model is to generate X also called as Matrix of Features. This X basically contains all our independent variables. Let’s create the same here"
   ]
  },
  {
   "cell_type": "code",
   "execution_count": 3,
   "id": "dbe3d37e",
   "metadata": {},
   "outputs": [
    {
     "data": {
      "text/plain": [
       "array([[619, 'France', 'Female', ..., 1, 1, 101348.88],\n",
       "       [608, 'Spain', 'Female', ..., 0, 1, 112542.58],\n",
       "       [502, 'France', 'Female', ..., 1, 0, 113931.57],\n",
       "       ...,\n",
       "       [709, 'France', 'Female', ..., 0, 1, 42085.58],\n",
       "       [772, 'Germany', 'Male', ..., 1, 0, 92888.52],\n",
       "       [792, 'France', 'Female', ..., 1, 0, 38190.78]], dtype=object)"
      ]
     },
     "execution_count": 3,
     "metadata": {},
     "output_type": "execute_result"
    }
   ],
   "source": [
    "X = data.iloc[:,3:-1].values\n",
    "X"
   ]
  },
  {
   "cell_type": "markdown",
   "id": "f67badd0",
   "metadata": {},
   "source": [
    "Here I have used iloc method of Pandas data frame which allows us to fetch the desired values from the desired column within the dataset. Here as we can see that we are fetching all the data from the 3rd column till the last minus one column. The reason for that is the first 3 columns i.e RowNumber, CustomerId, and Surname have nothing to do with deciding whether the customer is going to exit or not. Hence in this case we started fetching all the values from the 3rd column onwards. Lastly, since our last column is basically a dependent variable hence we have mentioned -1 in iloc method using which allows us to exclude the last column from being included in our matrix of features X."
   ]
  },
  {
   "cell_type": "markdown",
   "id": "f2d317f7",
   "metadata": {},
   "source": [
    "Generating Dependent Variable Vector(Y)"
   ]
  },
  {
   "cell_type": "markdown",
   "id": "5d951d00",
   "metadata": {},
   "source": [
    "In the same fashion where we have created our matrix of features(X) for the independent variable, we also have to create a dependent variable vector(Y) which will only contain our dependent variable values."
   ]
  },
  {
   "cell_type": "code",
   "execution_count": 4,
   "id": "8f78a6df",
   "metadata": {},
   "outputs": [
    {
     "data": {
      "text/plain": [
       "array([1, 0, 1, ..., 1, 1, 0], dtype=int64)"
      ]
     },
     "execution_count": 4,
     "metadata": {},
     "output_type": "execute_result"
    }
   ],
   "source": [
    "Y = data.iloc[:,-1].values\n",
    "Y"
   ]
  },
  {
   "cell_type": "markdown",
   "id": "2f9bfb01",
   "metadata": {},
   "source": [
    "Encoding Categorical Variable Gender"
   ]
  },
  {
   "cell_type": "markdown",
   "id": "d4a84fc5",
   "metadata": {},
   "source": [
    "Now we have defined our X and Y, from this point on we are going to start with one of the highly time-consuming phases in any machine learning problem-solving. This phase is known as feature engineering. To define it in a simple manner, feature engineering is a phase where we either generate new variables from existing ones or modify existing variables so as to use them in our machine learning model.\n",
    "\n",
    "In the above image depicting the structure of the dataset, we can see that most of the variables are numeric in nature with exception of a few – Gender, Country. Essentially, a machine learning model is a mathematical formula that is only going to accept digits as input. So we try to create an ML model using this dataset which contains a mix of data( numeric + string), our model will simply fail during the creation process itself. Hence we need to convert those string values into their numerical equivalent without losing their significance.\n",
    "\n",
    "One of the most efficient ways of doing this is by using a technique called encoding. It is a process that will convert strings or categories directly into their numerical equivalent without losing significance.\n",
    "\n",
    "Here our gender column has only 2 categories which are male and female, we are going to use LabelEncoding. This type of encoding will simply convert this column into a column having values of 0 and 1. In order to use Label Encoding, we are going to use LabelEncoder class from sklearn library."
   ]
  },
  {
   "cell_type": "code",
   "execution_count": 6,
   "id": "0746654a",
   "metadata": {},
   "outputs": [],
   "source": [
    "#Encoding Categorical Variable Gender\n",
    "from sklearn.preprocessing import LabelEncoder\n",
    "LE1 = LabelEncoder()\n",
    "X[:,2] = np.array(LE1.fit_transform(X[:,2]))"
   ]
  },
  {
   "cell_type": "markdown",
   "id": "6f7f39c4",
   "metadata": {},
   "source": [
    "Encoding Categorical Variable Country"
   ]
  },
  {
   "cell_type": "markdown",
   "id": "c85dda08",
   "metadata": {},
   "source": [
    "Now let’s deal with another categorical column named country. This column has a cardinality of 3 meaning that it has 3 distinct categories present i.e France, Germany, Spain.\n",
    "\n",
    "Here we have 2 options:-\n",
    "\n",
    "1. We can use Label Encoding here and directly convert those values into 0,1,2 like that\n",
    "\n",
    "2. We can use One Hot Encoding here which will convert those strings into a binary vector stream. For example – Spain will be encoded as 001, France will be 010, etc.\n",
    "\n",
    "The first approach is easy and faster to implement. However, once those values are encoded, those will be converted into 0,1,2. However, there does exist another method of encoding known as one-hot encoding. In one hot encoding, all the string values are converted into binary streams of 0’s and 1’s. One-hot encoding ensures that the machine learning algorithm does not assume that higher numbers are more important."
   ]
  },
  {
   "cell_type": "code",
   "execution_count": 7,
   "id": "b7680251",
   "metadata": {},
   "outputs": [],
   "source": [
    "#Encoding Categorical variable Geography\n",
    "from sklearn.compose import ColumnTransformer\n",
    "from sklearn.preprocessing import OneHotEncoder\n",
    "ct = ColumnTransformer(transformers = [('encoder',OneHotEncoder(),[1])],remainder = \"passthrough\")\n",
    "X = np.array(ct.fit_transform(X))"
   ]
  },
  {
   "cell_type": "markdown",
   "id": "1dadf263",
   "metadata": {},
   "source": [
    "Here we have used OneHotEncoder class from sklearn in order to perform one-hot encoding. Now you might have a query here. What is the use of ColumnTransformer? Well, ColumnTransformer is another class in sklearn that will allow us to select a particular column from our dataset on which we can apply one-hot encoding."
   ]
  },
  {
   "cell_type": "markdown",
   "id": "4cf3b911",
   "metadata": {},
   "source": [
    "Splitting Dataset into Training and Testing Dataset"
   ]
  },
  {
   "cell_type": "markdown",
   "id": "aecb344c",
   "metadata": {},
   "source": [
    "In this step, we are going to split our dataset into training and testing datasets. This is one of the bedrocks of the entire machine learning process. The training dataset is the one on which our model is going to train while the testing dataset is the one on which we are going to test the performance of our model."
   ]
  },
  {
   "cell_type": "code",
   "execution_count": 8,
   "id": "065aeb59",
   "metadata": {},
   "outputs": [],
   "source": [
    "# Splitting dataset into training and testing dataset\n",
    "from sklearn.model_selection import train_test_split\n",
    "X_train, X_test, Y_train, Y_test = train_test_split(X,Y,test_size = 0.2,random_state = 0)"
   ]
  },
  {
   "cell_type": "markdown",
   "id": "814504b4",
   "metadata": {},
   "source": [
    "Here we have used the train_test_split function from the sklearn library. We have split our dataset in a configuration such that 80 percent of data will be there in the training phase and 20 percent of data will be in the testing phase.\n",
    "\n",
    "Additionally, the best part about using the train_test_split function from sklearn is that, while splitting it will also be performing data shuffling in order to create a more generalized dataset."
   ]
  },
  {
   "cell_type": "markdown",
   "id": "9a32e4b5",
   "metadata": {},
   "source": [
    "Performing Feature Scaling"
   ]
  },
  {
   "cell_type": "markdown",
   "id": "945551fc",
   "metadata": {},
   "source": [
    "The very last step in our feature engineering phase is feature scaling. It is a procedure where all the variables are converted into the same scale. Why you might ask?. Sometimes in our dataset, certain variables have very high values while certain variables have very low values. So there is a chance that during model creation, the variables having extremely high-value dominate variables having extremely low value. Because of this, there is a possibility that those variables with the low value might be neglected by our model, and hence feature scaling is necessary.\n",
    "\n",
    "Now here I am going to answer one of the most important questions asked in a machine learning interview. ” When to perform feature scaling – before the train-test split or after the train-test split?”.\n",
    "\n",
    "Well, the answer is after we split the dataset into training and testing datasets. The reason being, the training dataset is something on which our model is going to train or learned itself. While the testing dataset is something on which our model is going to be evaluated. If we perform feature scaling before the train-test split then it will cause information leakage on testing datasets which neglects the purpose of having a testing dataset and hence we should always perform feature scaling after the train-test split.\n",
    "\n",
    "Now how we are going to perform feature scaling? Well, there are many ways of performing feature scaling. The two most efficient techniques in the context are:-\n",
    "\n",
    "1. Standardization\n",
    "\n",
    "2. Normalization\n",
    "\n",
    "Whenever standardization is performed, all values in the dataset will be converted into values ranging between -3 to +3. While in the case of normalization, all values will be converted into a range between -1 to +1.\n",
    "\n",
    "There are few conditions on which technique to use and when. Usually, Normalization is used only when our dataset follows a normal distribution while standardization is a universal technique that can be used for any dataset irrespective of the distribution. Here we are going to use Standardization."
   ]
  },
  {
   "cell_type": "code",
   "execution_count": 9,
   "id": "b6e82732",
   "metadata": {},
   "outputs": [],
   "source": [
    "#Performing Feature Scaling\n",
    "from sklearn.preprocessing import StandardScaler\n",
    "sc = StandardScaler()\n",
    "X_train = sc.fit_transform(X_train)\n",
    "X_test = sc.transform(X_test)"
   ]
  },
  {
   "cell_type": "markdown",
   "id": "f2f4867f",
   "metadata": {},
   "source": [
    "Here we have used StandardScalar class from the sklearn library in order to perform standardization.\n",
    "\n",
    "Now we have completed our feature engineering phase. We can now start with the creation of our artificial neural network from the next point onwards."
   ]
  },
  {
   "cell_type": "markdown",
   "id": "db23b27a",
   "metadata": {},
   "source": [
    "Initializing Artificial Neural Network"
   ]
  },
  {
   "cell_type": "markdown",
   "id": "c74707e2",
   "metadata": {},
   "source": [
    "This is the very first step while creating ANN. Here we are going to create our ann object by using a certain class of Keras named Sequential."
   ]
  },
  {
   "cell_type": "code",
   "execution_count": 10,
   "id": "ee15a2a3",
   "metadata": {},
   "outputs": [],
   "source": [
    "#Initialising ANN\n",
    "ann = tf.keras.models.Sequential()"
   ]
  },
  {
   "cell_type": "markdown",
   "id": "9d073749",
   "metadata": {},
   "source": [
    "As a part of tensorflow 2.0, Keras is now integrated with tensorflow and is now considered as a sub-library of tensorflow. The Sequential class is a part of the models module of Keras library which is a part of the tensorflow library now."
   ]
  },
  {
   "cell_type": "markdown",
   "id": "bd7c166d",
   "metadata": {},
   "source": [
    "Creating Hidden Layers"
   ]
  },
  {
   "cell_type": "markdown",
   "id": "3bbeace0",
   "metadata": {},
   "source": [
    "Once we initialize our ann, we are now going to create layers for the same. Here we are going to create a network that will have 2 hidden layers, 1 input layer, and 1 output layer. So, let’s create our very first hidden layer"
   ]
  },
  {
   "cell_type": "code",
   "execution_count": 11,
   "id": "222204e1",
   "metadata": {},
   "outputs": [],
   "source": [
    "# Adding First Hidden Layer\n",
    "ann.add(tf.keras.layers.Dense(units = 6, activation = \"relu\"))"
   ]
  },
  {
   "cell_type": "markdown",
   "id": "80077db0",
   "metadata": {},
   "source": [
    "Here we have created our first hidden layer by using the Dense class which is part of the layers module. This class accepts 2 inputs:-\n",
    "\n",
    "1. units:- number of neurons that will be present in the respective layer\n",
    "\n",
    "2. activation:- specify which activation function to be used\n",
    "\n",
    "For the first input, I had tested with many values in the past and the optimal value that I had found is 6. Obviously, we can try with any other value as there is no hard rule about the number of neurons that should be present in the layer.\n",
    "\n",
    "For the second input, we are always going to use “relu”[rectified linear unit] as an activation function for hidden layers. Since we are going to create two hidden layers, this same step we are going to repeat for the creation of the second hidden layer as well."
   ]
  },
  {
   "cell_type": "code",
   "execution_count": 12,
   "id": "55315340",
   "metadata": {},
   "outputs": [],
   "source": [
    " #Adding Second Hidden Layer\n",
    "ann.add(tf.keras.layers.Dense(units = 6, activation = \"relu\"))"
   ]
  },
  {
   "cell_type": "markdown",
   "id": "c6e705d2",
   "metadata": {},
   "source": [
    "Creating Output Layer"
   ]
  },
  {
   "cell_type": "markdown",
   "id": "4b40d26d",
   "metadata": {},
   "source": [
    "In this step, we are going to create our output layer for ann. The output layer will be responsible for giving output."
   ]
  },
  {
   "cell_type": "code",
   "execution_count": 13,
   "id": "af27dde5",
   "metadata": {},
   "outputs": [],
   "source": [
    "# Adding Output Layer\n",
    "ann.add(tf.keras.layers.Dense(units = 1, activation = \"sigmoid\"))"
   ]
  },
  {
   "cell_type": "markdown",
   "id": "849a13ea",
   "metadata": {},
   "source": [
    "Here again, we are going to use the Dense class in order to create the output layer. Two important things to remember here:-\n",
    "\n",
    "1. In a binary classification problem(like this one) where we will be having only two classes as output (1 and 0), we will be allocating only one neuron to output this result. For the multiclass classification problem, we have to use more than one neuron in the output layer. For example – if our output contains 4 categories then we need to create 4 different neurons[one for each category].\n",
    "\n",
    "2. For the binary classification Problems, the activation function that should always be used is sigmoid. For a multiclass classification problem, the activation function that should be used is softmax.\n",
    "\n",
    "Here since we are dealing with binary classification hence we are allocating only one neuron in the output layer and the activation function which is used is softmax."
   ]
  },
  {
   "cell_type": "markdown",
   "id": "adf8751b",
   "metadata": {},
   "source": [
    "Compiling Artificial Neural Network"
   ]
  },
  {
   "cell_type": "markdown",
   "id": "0445d814",
   "metadata": {},
   "source": [
    "We have now created layers for our neural network. In this step, we are going to compile our ANN."
   ]
  },
  {
   "cell_type": "code",
   "execution_count": 14,
   "id": "a4b6abe2",
   "metadata": {},
   "outputs": [],
   "source": [
    "# Compiling ANN\n",
    "ann.compile(optimizer = \"adam\", loss = \"binary_crossentropy\", metrics = ['accuracy'])"
   ]
  },
  {
   "cell_type": "markdown",
   "id": "ddeb27f2",
   "metadata": {},
   "source": [
    "We have used compile method of our ann object in order to compile our network. Compile method accepts the below inputs:-\n",
    "\n",
    "1. optimizer:- specifies which optimizer to be used in order to perform stochastic gradient descent. I had experimented with various optimizers like RMSProp, adam and I have found that adam optimizer is a reliable one that can be used with any neural network.\n",
    "\n",
    "2. loss:- specifies which loss function should be used. For binary classification, the value should be binary_crossentropy. For multiclass classification, it should be categorical_crossentropy.\n",
    "\n",
    "3. metrics:- which performance metrics to be used in order to compute performance. Here we have used accuracy as a performance metric."
   ]
  },
  {
   "cell_type": "markdown",
   "id": "0428726a",
   "metadata": {},
   "source": [
    "Fitting Artificial Neural Network"
   ]
  },
  {
   "cell_type": "markdown",
   "id": "a511efb0",
   "metadata": {},
   "source": [
    "This is the last step in our ann creation process. Here we are just going to train our ann on the training dataset."
   ]
  },
  {
   "cell_type": "code",
   "execution_count": 15,
   "id": "1e62b047",
   "metadata": {},
   "outputs": [
    {
     "name": "stdout",
     "output_type": "stream",
     "text": [
      "Epoch 1/100\n",
      "250/250 [==============================] - 0s 456us/step - loss: 0.5317 - accuracy: 0.7613\n",
      "Epoch 2/100\n",
      "250/250 [==============================] - 0s 430us/step - loss: 0.4663 - accuracy: 0.7960\n",
      "Epoch 3/100\n",
      "250/250 [==============================] - 0s 444us/step - loss: 0.4472 - accuracy: 0.7960\n",
      "Epoch 4/100\n",
      "250/250 [==============================] - 0s 449us/step - loss: 0.4358 - accuracy: 0.7983\n",
      "Epoch 5/100\n",
      "250/250 [==============================] - 0s 444us/step - loss: 0.4276 - accuracy: 0.8124\n",
      "Epoch 6/100\n",
      "250/250 [==============================] - 0s 460us/step - loss: 0.4206 - accuracy: 0.8195\n",
      "Epoch 7/100\n",
      "250/250 [==============================] - 0s 438us/step - loss: 0.4131 - accuracy: 0.8230\n",
      "Epoch 8/100\n",
      "250/250 [==============================] - 0s 424us/step - loss: 0.4075 - accuracy: 0.8257\n",
      "Epoch 9/100\n",
      "250/250 [==============================] - 0s 416us/step - loss: 0.4019 - accuracy: 0.8264\n",
      "Epoch 10/100\n",
      "250/250 [==============================] - 0s 440us/step - loss: 0.3976 - accuracy: 0.8274\n",
      "Epoch 11/100\n",
      "250/250 [==============================] - 0s 420us/step - loss: 0.3927 - accuracy: 0.8285\n",
      "Epoch 12/100\n",
      "250/250 [==============================] - 0s 424us/step - loss: 0.3883 - accuracy: 0.8310\n",
      "Epoch 13/100\n",
      "250/250 [==============================] - 0s 424us/step - loss: 0.3843 - accuracy: 0.8305\n",
      "Epoch 14/100\n",
      "250/250 [==============================] - 0s 416us/step - loss: 0.3805 - accuracy: 0.8375\n",
      "Epoch 15/100\n",
      "250/250 [==============================] - 0s 432us/step - loss: 0.3773 - accuracy: 0.8389\n",
      "Epoch 16/100\n",
      "250/250 [==============================] - 0s 408us/step - loss: 0.3747 - accuracy: 0.8419\n",
      "Epoch 17/100\n",
      "250/250 [==============================] - 0s 480us/step - loss: 0.3723 - accuracy: 0.8446\n",
      "Epoch 18/100\n",
      "250/250 [==============================] - 0s 422us/step - loss: 0.3703 - accuracy: 0.8471\n",
      "Epoch 19/100\n",
      "250/250 [==============================] - 0s 488us/step - loss: 0.3680 - accuracy: 0.8489\n",
      "Epoch 20/100\n",
      "250/250 [==============================] - 0s 444us/step - loss: 0.3662 - accuracy: 0.8496\n",
      "Epoch 21/100\n",
      "250/250 [==============================] - 0s 427us/step - loss: 0.3646 - accuracy: 0.8519\n",
      "Epoch 22/100\n",
      "250/250 [==============================] - 0s 443us/step - loss: 0.3628 - accuracy: 0.8516\n",
      "Epoch 23/100\n",
      "250/250 [==============================] - 0s 404us/step - loss: 0.3615 - accuracy: 0.8524\n",
      "Epoch 24/100\n",
      "250/250 [==============================] - 0s 436us/step - loss: 0.3602 - accuracy: 0.8528\n",
      "Epoch 25/100\n",
      "250/250 [==============================] - 0s 380us/step - loss: 0.3593 - accuracy: 0.8540\n",
      "Epoch 26/100\n",
      "250/250 [==============================] - 0s 438us/step - loss: 0.3585 - accuracy: 0.8535\n",
      "Epoch 27/100\n",
      "250/250 [==============================] - 0s 404us/step - loss: 0.3573 - accuracy: 0.8535\n",
      "Epoch 28/100\n",
      "250/250 [==============================] - 0s 408us/step - loss: 0.3571 - accuracy: 0.8536\n",
      "Epoch 29/100\n",
      "250/250 [==============================] - 0s 414us/step - loss: 0.3556 - accuracy: 0.8524\n",
      "Epoch 30/100\n",
      "250/250 [==============================] - 0s 404us/step - loss: 0.3552 - accuracy: 0.8525\n",
      "Epoch 31/100\n",
      "250/250 [==============================] - 0s 422us/step - loss: 0.3541 - accuracy: 0.8526\n",
      "Epoch 32/100\n",
      "250/250 [==============================] - 0s 412us/step - loss: 0.3535 - accuracy: 0.8537\n",
      "Epoch 33/100\n",
      "250/250 [==============================] - 0s 409us/step - loss: 0.3529 - accuracy: 0.8547\n",
      "Epoch 34/100\n",
      "250/250 [==============================] - 0s 445us/step - loss: 0.3524 - accuracy: 0.8546\n",
      "Epoch 35/100\n",
      "250/250 [==============================] - 0s 388us/step - loss: 0.3518 - accuracy: 0.8574\n",
      "Epoch 36/100\n",
      "250/250 [==============================] - 0s 405us/step - loss: 0.3515 - accuracy: 0.8572\n",
      "Epoch 37/100\n",
      "250/250 [==============================] - 0s 412us/step - loss: 0.3498 - accuracy: 0.8581\n",
      "Epoch 38/100\n",
      "250/250 [==============================] - 0s 400us/step - loss: 0.3498 - accuracy: 0.8589\n",
      "Epoch 39/100\n",
      "250/250 [==============================] - 0s 410us/step - loss: 0.3498 - accuracy: 0.8572\n",
      "Epoch 40/100\n",
      "250/250 [==============================] - 0s 409us/step - loss: 0.3490 - accuracy: 0.8569\n",
      "Epoch 41/100\n",
      "250/250 [==============================] - 0s 416us/step - loss: 0.3483 - accuracy: 0.8601\n",
      "Epoch 42/100\n",
      "250/250 [==============================] - 0s 443us/step - loss: 0.3478 - accuracy: 0.8591\n",
      "Epoch 43/100\n",
      "250/250 [==============================] - 0s 461us/step - loss: 0.3472 - accuracy: 0.8593\n",
      "Epoch 44/100\n",
      "250/250 [==============================] - 0s 424us/step - loss: 0.3478 - accuracy: 0.8604\n",
      "Epoch 45/100\n",
      "250/250 [==============================] - 0s 404us/step - loss: 0.3472 - accuracy: 0.8584\n",
      "Epoch 46/100\n",
      "250/250 [==============================] - 0s 432us/step - loss: 0.3471 - accuracy: 0.8590\n",
      "Epoch 47/100\n",
      "250/250 [==============================] - 0s 419us/step - loss: 0.3461 - accuracy: 0.8583\n",
      "Epoch 48/100\n",
      "250/250 [==============================] - 0s 428us/step - loss: 0.3461 - accuracy: 0.8608\n",
      "Epoch 49/100\n",
      "250/250 [==============================] - 0s 496us/step - loss: 0.3455 - accuracy: 0.8591\n",
      "Epoch 50/100\n",
      "250/250 [==============================] - 0s 421us/step - loss: 0.3456 - accuracy: 0.8620\n",
      "Epoch 51/100\n",
      "250/250 [==============================] - 0s 421us/step - loss: 0.3456 - accuracy: 0.8593\n",
      "Epoch 52/100\n",
      "250/250 [==============================] - 0s 409us/step - loss: 0.3452 - accuracy: 0.8604\n",
      "Epoch 53/100\n",
      "250/250 [==============================] - 0s 399us/step - loss: 0.3447 - accuracy: 0.8634\n",
      "Epoch 54/100\n",
      "250/250 [==============================] - 0s 418us/step - loss: 0.3452 - accuracy: 0.8599\n",
      "Epoch 55/100\n",
      "250/250 [==============================] - 0s 392us/step - loss: 0.3444 - accuracy: 0.8621\n",
      "Epoch 56/100\n",
      "250/250 [==============================] - 0s 419us/step - loss: 0.3448 - accuracy: 0.8599\n",
      "Epoch 57/100\n",
      "250/250 [==============================] - 0s 404us/step - loss: 0.3447 - accuracy: 0.8597\n",
      "Epoch 58/100\n",
      "250/250 [==============================] - 0s 413us/step - loss: 0.3444 - accuracy: 0.8611\n",
      "Epoch 59/100\n",
      "250/250 [==============================] - 0s 420us/step - loss: 0.3443 - accuracy: 0.8615\n",
      "Epoch 60/100\n",
      "250/250 [==============================] - 0s 420us/step - loss: 0.3438 - accuracy: 0.8608\n",
      "Epoch 61/100\n",
      "250/250 [==============================] - 0s 450us/step - loss: 0.3438 - accuracy: 0.8604\n",
      "Epoch 62/100\n",
      "250/250 [==============================] - 0s 403us/step - loss: 0.3431 - accuracy: 0.8633\n",
      "Epoch 63/100\n",
      "250/250 [==============================] - 0s 384us/step - loss: 0.3437 - accuracy: 0.8591\n",
      "Epoch 64/100\n",
      "250/250 [==============================] - 0s 422us/step - loss: 0.3430 - accuracy: 0.8608\n",
      "Epoch 65/100\n",
      "250/250 [==============================] - 0s 401us/step - loss: 0.3442 - accuracy: 0.8611\n",
      "Epoch 66/100\n",
      "250/250 [==============================] - 0s 380us/step - loss: 0.3432 - accuracy: 0.8612\n",
      "Epoch 67/100\n",
      "250/250 [==============================] - 0s 430us/step - loss: 0.3429 - accuracy: 0.8609\n",
      "Epoch 68/100\n",
      "250/250 [==============================] - 0s 368us/step - loss: 0.3429 - accuracy: 0.8616\n",
      "Epoch 69/100\n",
      "250/250 [==============================] - 0s 393us/step - loss: 0.3424 - accuracy: 0.8621\n",
      "Epoch 70/100\n",
      "250/250 [==============================] - 0s 412us/step - loss: 0.3429 - accuracy: 0.8625\n",
      "Epoch 71/100\n",
      "250/250 [==============================] - 0s 399us/step - loss: 0.3417 - accuracy: 0.8604\n",
      "Epoch 72/100\n",
      "250/250 [==============================] - 0s 424us/step - loss: 0.3431 - accuracy: 0.8616\n",
      "Epoch 73/100\n",
      "250/250 [==============================] - 0s 426us/step - loss: 0.3428 - accuracy: 0.8621\n",
      "Epoch 74/100\n",
      "250/250 [==============================] - 0s 428us/step - loss: 0.3421 - accuracy: 0.8619\n",
      "Epoch 75/100\n",
      "250/250 [==============================] - 0s 415us/step - loss: 0.3419 - accuracy: 0.8615\n",
      "Epoch 76/100\n",
      "250/250 [==============================] - 0s 392us/step - loss: 0.3421 - accuracy: 0.8622\n",
      "Epoch 77/100\n",
      "250/250 [==============================] - 0s 399us/step - loss: 0.3424 - accuracy: 0.8618\n",
      "Epoch 78/100\n",
      "250/250 [==============================] - 0s 392us/step - loss: 0.3421 - accuracy: 0.8630\n",
      "Epoch 79/100\n",
      "250/250 [==============================] - 0s 397us/step - loss: 0.3421 - accuracy: 0.8631\n",
      "Epoch 80/100\n",
      "250/250 [==============================] - 0s 442us/step - loss: 0.3418 - accuracy: 0.8621\n",
      "Epoch 81/100\n",
      "250/250 [==============================] - 0s 457us/step - loss: 0.3411 - accuracy: 0.8631\n",
      "Epoch 82/100\n",
      "250/250 [==============================] - 0s 427us/step - loss: 0.3411 - accuracy: 0.8615\n",
      "Epoch 83/100\n",
      "250/250 [==============================] - 0s 383us/step - loss: 0.3418 - accuracy: 0.8626\n",
      "Epoch 84/100\n",
      "250/250 [==============================] - 0s 384us/step - loss: 0.3403 - accuracy: 0.8635\n",
      "Epoch 85/100\n",
      "250/250 [==============================] - 0s 425us/step - loss: 0.3413 - accuracy: 0.8625\n",
      "Epoch 86/100\n",
      "250/250 [==============================] - 0s 464us/step - loss: 0.3410 - accuracy: 0.8619\n",
      "Epoch 87/100\n",
      "250/250 [==============================] - 0s 460us/step - loss: 0.3413 - accuracy: 0.8630\n",
      "Epoch 88/100\n",
      "250/250 [==============================] - 0s 411us/step - loss: 0.3405 - accuracy: 0.8631\n",
      "Epoch 89/100\n",
      "250/250 [==============================] - 0s 428us/step - loss: 0.3406 - accuracy: 0.8640\n",
      "Epoch 90/100\n",
      "250/250 [==============================] - 0s 417us/step - loss: 0.3404 - accuracy: 0.8643\n",
      "Epoch 91/100\n",
      "250/250 [==============================] - 0s 396us/step - loss: 0.3401 - accuracy: 0.8624\n",
      "Epoch 92/100\n",
      "250/250 [==============================] - 0s 408us/step - loss: 0.3403 - accuracy: 0.8627\n",
      "Epoch 93/100\n",
      "250/250 [==============================] - 0s 400us/step - loss: 0.3393 - accuracy: 0.8624\n",
      "Epoch 94/100\n",
      "250/250 [==============================] - 0s 420us/step - loss: 0.3404 - accuracy: 0.8621\n",
      "Epoch 95/100\n",
      "250/250 [==============================] - 0s 388us/step - loss: 0.3398 - accuracy: 0.8646\n",
      "Epoch 96/100\n",
      "250/250 [==============================] - 0s 388us/step - loss: 0.3399 - accuracy: 0.8648\n",
      "Epoch 97/100\n",
      "250/250 [==============================] - 0s 376us/step - loss: 0.3389 - accuracy: 0.8644\n",
      "Epoch 98/100\n",
      "250/250 [==============================] - 0s 360us/step - loss: 0.3397 - accuracy: 0.8608\n",
      "Epoch 99/100\n",
      "250/250 [==============================] - 0s 409us/step - loss: 0.3394 - accuracy: 0.8616\n",
      "Epoch 100/100\n",
      "250/250 [==============================] - 0s 390us/step - loss: 0.3396 - accuracy: 0.8633\n"
     ]
    },
    {
     "data": {
      "text/plain": [
       "<keras.callbacks.History at 0x26689ec7df0>"
      ]
     },
     "execution_count": 15,
     "metadata": {},
     "output_type": "execute_result"
    }
   ],
   "source": [
    "#Fitting ANN\n",
    "ann.fit(X_train,Y_train,batch_size=32,epochs = 100)"
   ]
  },
  {
   "cell_type": "markdown",
   "id": "3b27935b",
   "metadata": {},
   "source": [
    "Here we have used the fit method in order to train our ann. The fit method is accepting 4 inputs in this case:-\n",
    "\n",
    "1.X_train:- Matrix of features for the training dataset\n",
    "\n",
    "2.Y_train:- Dependent variable vectors for the training dataset\n",
    "\n",
    "3.batch_size: how many observations should be there in the batch. Usually, the value for this parameter is 32 but we can experiment with any other value as well.\n",
    "\n",
    "4. epochs: How many times neural networks will be trained. Here the optimal value that I have found from my experience is 100.\n",
    "\n",
    "Are you interested to see how the training process looks like? Well here is the snap for the same."
   ]
  },
  {
   "cell_type": "markdown",
   "id": "f4d7734a",
   "metadata": {},
   "source": [
    "Training of Artificial Neural Network\n",
    "\n",
    "Here we can see that in each epoch our loss is decreasing and our accuracy is increasing. As we can see here that our final accuracy is 86.33 which is pretty remarkable for a neural network with this simplicity.\n",
    "\n",
    "That’s it. We have created our artificial neural network from scratch using Python."
   ]
  },
  {
   "cell_type": "markdown",
   "id": "e7de2a24",
   "metadata": {},
   "source": [
    "Predicting Result for Single Point Observation"
   ]
  },
  {
   "cell_type": "code",
   "execution_count": 16,
   "id": "933f7fa3",
   "metadata": {},
   "outputs": [
    {
     "name": "stdout",
     "output_type": "stream",
     "text": [
      "[[False]]\n"
     ]
    }
   ],
   "source": [
    "#Predicting result for Single Observation\n",
    "print(ann.predict(sc.transform([[1, 0, 0, 600, 1, 40, 3, 60000, 2, 1, 1,50000]])) > 0.5)"
   ]
  },
  {
   "cell_type": "code",
   "execution_count": 17,
   "id": "7407d417",
   "metadata": {},
   "outputs": [],
   "source": [
    "#Saving created neural network\n",
    "ann.save(\"ANN.h5\")"
   ]
  },
  {
   "cell_type": "code",
   "execution_count": null,
   "id": "d9e2d6d0",
   "metadata": {},
   "outputs": [],
   "source": []
  }
 ],
 "metadata": {
  "kernelspec": {
   "display_name": "Python 3 (ipykernel)",
   "language": "python",
   "name": "python3"
  },
  "language_info": {
   "codemirror_mode": {
    "name": "ipython",
    "version": 3
   },
   "file_extension": ".py",
   "mimetype": "text/x-python",
   "name": "python",
   "nbconvert_exporter": "python",
   "pygments_lexer": "ipython3",
   "version": "3.8.17"
  }
 },
 "nbformat": 4,
 "nbformat_minor": 5
}
